{
 "cells": [
  {
   "cell_type": "code",
   "execution_count": 55,
   "metadata": {},
   "outputs": [],
   "source": [
    "import time\n",
    "from bs4 import BeautifulSoup\n",
    "from selenium import webdriver\n",
    "from selenium.webdriver.common.keys import Keys"
   ]
  },
  {
   "cell_type": "code",
   "execution_count": null,
   "metadata": {},
   "outputs": [],
   "source": [
    "# 要爬蟲的網址\n",
    "url = 'https://www.104.com.tw/cust/list/index/?page=1&area=6001016000&indcat=1001001002&order=1&mode=s&jobsource=checkc'"
   ]
  },
  {
   "cell_type": "code",
   "execution_count": 60,
   "metadata": {},
   "outputs": [
    {
     "name": "stdout",
     "output_type": "stream",
     "text": [
      "第1頁已爬完\n",
      "第2頁已爬完\n",
      "第3頁已爬完\n",
      "第4頁已爬完\n",
      "沒有下一頁了，共4頁\n"
     ]
    }
   ],
   "source": [
    "browser = webdriver.Chrome()\n",
    "# 打開瀏覽器並連到指定網頁\n",
    "browser.get(url)\n",
    "# delay一段時間等待網頁更新完成\n",
    "time.sleep(2)\n",
    "\n",
    "n = 0\n",
    "while True:\n",
    "    # delay一段時間等待網頁更新完成\n",
    "    time.sleep(3)\n",
    "    html = browser.page_source\n",
    "    soup = BeautifulSoup(html, 'lxml')\n",
    "    # 擷取所有公司資料\n",
    "    company_list = soup.find('div', attrs = {'id': 'company-result'}).find_all('article', attrs = {'class': 'items'})\n",
    "    \n",
    "    # 擷取公司名稱與簡介\n",
    "    for company in company_list:\n",
    "        # 公司名稱        \n",
    "        company_name = company.a.string\n",
    "        # 打開要寫入的檔案         \n",
    "        f = open('./company_list.txt', 'a+', encoding = 'utf-8')\n",
    "        # 寫入檔案        \n",
    "        f.write(company_name + '\\n')\n",
    "        \n",
    "        # 公司簡介\n",
    "        company_desc = company.find(\"p\", attrs = {'class': \"desc\"})\n",
    "        # 寫入檔案\n",
    "        f.write( company_desc.string + \"\\n\" )  \n",
    "        f.write( \"--------------------------------------------------------------------------------\" + \"\\n\" )\n",
    "        f.close()\n",
    "\n",
    "    # 告知爬蟲的進度    \n",
    "    n += 1\n",
    "    print(f'第{n}頁已爬完')\n",
    "    \n",
    "    nextpage = soup.find(\"a\", {\"class\" : \"page-next disabled\"})\n",
    "    if nextpage is not None:\n",
    "        print(f'沒有下一頁了，共{n}頁')\n",
    "        break\n",
    "    else:\n",
    "        browser.find_element_by_class_name('page-next').click()"
   ]
  }
 ],
 "metadata": {
  "kernelspec": {
   "display_name": "Python 3",
   "language": "python",
   "name": "python3"
  },
  "language_info": {
   "codemirror_mode": {
    "name": "ipython",
    "version": 3
   },
   "file_extension": ".py",
   "mimetype": "text/x-python",
   "name": "python",
   "nbconvert_exporter": "python",
   "pygments_lexer": "ipython3",
   "version": "3.7.4"
  }
 },
 "nbformat": 4,
 "nbformat_minor": 2
}
